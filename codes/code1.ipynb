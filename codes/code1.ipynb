%%capture
# First install all required packages
!pip install PyPDF2 spacy scikit-learn numpy ipywidgets
!python -m spacy download en_core_web_sm
